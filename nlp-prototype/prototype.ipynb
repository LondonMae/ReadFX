{
 "cells": [
  {
   "cell_type": "code",
   "execution_count": 3,
   "metadata": {},
   "outputs": [],
   "source": [
    "!pip install git+https://github.com/PrithivirajDamodaran/Parrot_Paraphraser.git\n",
    "!pip install protobuf\n",
    "!pip install sentencepiece"
   ]
  },
  {
   "cell_type": "code",
   "execution_count": null,
   "metadata": {},
   "outputs": [],
   "source": []
  },
  {
   "cell_type": "code",
   "execution_count": null,
   "metadata": {},
   "outputs": [
    {
     "name": "stdout",
     "output_type": "stream",
     "text": [
      "----------------------------------------------------------------------------------------------------\n",
      "Input_phrase:  On a happier note for him, a New York Times/Siena College poll puts Trump ahead of Joe Biden in five of the six critical swing states where the 2024 presidential election, now a year away, will be won. The survey underlines how Trump appears so far to be unscathed by the historic 91 felony charges he faces, though it also provides a warning that if he is convicted and sentenced, voters in the battleground states could punish him by switching to Biden. Tired of Winning recounts how those close to Trump have consciously embraced the paradox that the indictments appear to have strengthened his standing within the Republican party. Karl relates that days before he was indicted in the Daniels case, in which Trump is accused of making illegal payments to an adult movie star to cover up an alleged affair, his former senior adviser in the White House Steve Bannon mused that Trump could turn his legal plight to political advantage.“This week, Trump could lock down the nomination if he played his cards right,” Karl says Bannon told him. “‘They’re crucifying me,’ you know, ‘I’m a martyr.’ All that. You get everybody so riled up that they just say, ‘Fuck it. I hate Trump, but we’ve got to stand up against this.’”skip past newsletter promotion \n",
      "----------------------------------------------------------------------------------------------------\n",
      "('the report provides a warning that if he is convicted and sentenced voters in the battleground states could punish him by switching to biden', 1097)\n"
     ]
    }
   ],
   "source": [
    "phrases = [\n",
    "    \"\"\"On a happier note for him, a New York Times/Siena College poll puts Trump ahead of Joe Biden in five of the six critical swing states where the 2024 presidential election, now a year away, will be won. The survey underlines how Trump appears so far to be unscathed by the historic 91 felony charges he faces, though it also provides a warning that if he is convicted and sentenced, voters in the battleground states could punish him by switching to Biden. Tired of Winning recounts how those close to Trump have consciously embraced the paradox that the indictments appear to have strengthened his standing within the Republican party. Karl relates that days before he was indicted in the Daniels case, in which Trump is accused of making illegal payments to an adult movie star to cover up an alleged affair, his former senior adviser in the White House Steve Bannon mused that Trump could turn his legal plight to political advantage.“This week, Trump could lock down the nomination if he played his cards right,” Karl says Bannon told him. “‘They’re crucifying me,’ you know, ‘I’m a martyr.’ All that. You get everybody so riled up that they just say, ‘Fuck it. I hate Trump, but we’ve got to stand up against this.’”skip past newsletter promotion \"\"\"\n",
    "]\n",
    "from parrot import Parrot\n",
    "import torch\n",
    "import warnings\n",
    "warnings.filterwarnings(\"ignore\")\n",
    "\n",
    "\n",
    "#Init models (make sure you init ONLY once if you integrate this to your code)\n",
    "parrot = Parrot(model_tag=\"prithivida/parrot_paraphraser_on_T5\")\n",
    "\n",
    "\n",
    "for phrase in phrases:\n",
    "  if phrase:\n",
    "    print(\"-\"*100)\n",
    "    print(\"Input_phrase: \", phrase)\n",
    "    print(\"-\"*100)\n",
    "    para_phrases = parrot.augment(input_phrase=phrase, use_gpu=False)\n",
    "    if para_phrases:\n",
    "      for para_phrase in para_phrases:\n",
    "        print(para_phrase)\n",
    "\n",
    "\n"
   ]
  },
  {
   "attachments": {},
   "cell_type": "markdown",
   "metadata": {},
   "source": [
    "TODO: Analyze the phrases and how it is parsed because when the element of the data is separate, it cannot summerize much(see below). But if it is condensed into a plot of multi strings(see above) then the text summerization works pretty well."
   ]
  },
  {
   "cell_type": "code",
   "execution_count": null,
   "metadata": {},
   "outputs": [],
   "source": [
    "phrases = [\n",
    "    \"trading lower\",\n",
    "    \"trading lower\",\n",
    "    \"trading lower\",\n",
    "    \"trading lower\",\n",
    "    \"trading higher\",\n",
    "    \"trading higher\",\n",
    "    \"[1/14]Former U.S. President Donald Trump is questioned by Kevin Wallace of the New York Attorney General's... Read more\",\n",
    "    \"Donald Trump complained of unfair treatment in defiant and rambling testimony on the witness stand at his New York civil business-fraud trial on Monday, prompting the judge to threaten to cut his testimony short.\",\n",
    "    \"Gaza is becoming a \\\"graveyard for children\\\", U.N. Secretary General Antonio Guterres said on Monday, calling for an urgent ceasefire in the enclave, where Palestinian health authorities said the death toll from Israeli strikes had exceeded 10,000.\",\n",
    "    \"Wall Street's main indexes edged higher as investors seek clarity on rates from the Federal Reserve.\",\n",
    "    \"As Congress eyes another looming partial government shutdown deadline, it also faces a question: Whether lawmakers, and particularly a small but powerful band of hardline Republicans, are capable of compromise.\",\n",
    "    \"U.S. President Joe Biden and Israeli Prime Minister Benjamin Netanyahu discussed the potential for tactical pauses in strikes on Gaza for humanitarian reasons and possible hostage releases during talks on Monday, according to a spokesperson.\",\n",
    "    \"Gaza is becoming a \\\"graveyard for children\\\", U.N. Secretary General Antonio Guterres said on Monday, calling for an urgent ceasefire in the enclave, where Palestinian health authorities said the death toll from Israeli strikes had exceeded 10,000.\",\n",
    "    \"U.S. Secretary of State Antony Blinken wrapped up a four-day trip to the Middle East, with little breakthrough on achieving the humanitarian pauses that Washington is seeking to get in more aid into Gaza amid the Israeli bombardment of the enclave and establish calm to secure safe passage for the hostages Hamas militants kidnapped.\",\n",
    "    \"Israel's military said on Monday it was striking targets belonging to the Shi'ite militant group Hezbollah in Lebanon in response to a large barrage of rockets fired at northern Israeli cities.\",\n",
    "    \"Israeli security forces killed four Palestinian militants in the occupied West Bank on Monday in the latest in a series of deadly incidents that have spiralled in the wake of the war in Gaza.\",\n",
    "    \"Yemen's Houthis launched a new batch of drones against sensitive targets inside Israel on Monday, according to a statement from their armed forces broadcast by TV channel Al Masirah.\",\n",
    "    \"Israel's hardline nationalist Finance Minister Bezalel Smotrich called on Monday for security zones to be set up around Jewish settlements in the occupied West Bank, keeping Palestinian farmers away during the olive harvest season.\",\n",
    "\n",
    "]\n",
    "from parrot import Parrot\n",
    "import torch\n",
    "import warnings\n",
    "warnings.filterwarnings(\"ignore\")\n",
    "\n",
    "''' \n",
    "uncomment to get reproducable paraphrase generations\n",
    "def random_state(seed):\n",
    "  torch.manual_seed(seed)\n",
    "  if torch.cuda.is_available():\n",
    "    torch.cuda.manual_seed_all(seed)\n",
    "\n",
    "random_state(1234)\n",
    "'''\n",
    "\n",
    "#Init models (make sure you init ONLY once if you integrate this to your code)\n",
    "parrot = Parrot(model_tag=\"prithivida/parrot_paraphraser_on_T5\")\n",
    "\n",
    "\n",
    "for phrase in phrases:\n",
    "  if phrase:\n",
    "    print(\"-\"*100)\n",
    "    print(\"Input_phrase: \", phrase)\n",
    "    print(\"-\"*100)\n",
    "    para_phrases = parrot.augment(input_phrase=phrase, use_gpu=False)\n",
    "    if para_phrases:\n",
    "      for para_phrase in para_phrases:\n",
    "        print(para_phrase)\n",
    "\n",
    "\n"
   ]
  }
 ],
 "metadata": {
  "kernelspec": {
   "display_name": "base",
   "language": "python",
   "name": "python3"
  },
  "language_info": {
   "codemirror_mode": {
    "name": "ipython",
    "version": 3
   },
   "file_extension": ".py",
   "mimetype": "text/x-python",
   "name": "python",
   "nbconvert_exporter": "python",
   "pygments_lexer": "ipython3",
   "version": "3.8.15"
  }
 },
 "nbformat": 4,
 "nbformat_minor": 2
}
